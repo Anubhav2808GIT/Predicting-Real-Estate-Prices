{
 "cells": [
  {
   "cell_type": "code",
   "execution_count": 2,
   "id": "8a265566",
   "metadata": {},
   "outputs": [],
   "source": [
    "import pandas as pd\n",
    "import numpy as np\n",
    "import matplotlib.pyplot as plt\n",
    "from sklearn.metrics import mean_squared_error as mse"
   ]
  },
  {
   "cell_type": "code",
   "execution_count": 3,
   "id": "b0b0c3b4",
   "metadata": {},
   "outputs": [],
   "source": [
    "data = pd.read_csv(\"transformed_housing_data_2.csv\")"
   ]
  },
  {
   "cell_type": "code",
   "execution_count": 4,
   "id": "b72a30a3",
   "metadata": {},
   "outputs": [
    {
     "data": {
      "text/html": [
       "<div>\n",
       "<style scoped>\n",
       "    .dataframe tbody tr th:only-of-type {\n",
       "        vertical-align: middle;\n",
       "    }\n",
       "\n",
       "    .dataframe tbody tr th {\n",
       "        vertical-align: top;\n",
       "    }\n",
       "\n",
       "    .dataframe thead th {\n",
       "        text-align: right;\n",
       "    }\n",
       "</style>\n",
       "<table border=\"1\" class=\"dataframe\">\n",
       "  <thead>\n",
       "    <tr style=\"text-align: right;\">\n",
       "      <th></th>\n",
       "      <th>Sale_Price</th>\n",
       "      <th>No of Bedrooms</th>\n",
       "      <th>No of Bathrooms</th>\n",
       "      <th>Flat Area (in Sqft)</th>\n",
       "      <th>Lot Area (in Sqft)</th>\n",
       "      <th>No of Floors</th>\n",
       "      <th>No of Times Visited</th>\n",
       "      <th>Overall Grade</th>\n",
       "      <th>Area of the House from Basement (in Sqft)</th>\n",
       "      <th>Basement Area (in Sqft)</th>\n",
       "      <th>...</th>\n",
       "      <th>Waterfront_View_Yes</th>\n",
       "      <th>Zipcode_Group_Zipcode_Group_1</th>\n",
       "      <th>Zipcode_Group_Zipcode_Group_2</th>\n",
       "      <th>Zipcode_Group_Zipcode_Group_3</th>\n",
       "      <th>Zipcode_Group_Zipcode_Group_4</th>\n",
       "      <th>Zipcode_Group_Zipcode_Group_5</th>\n",
       "      <th>Zipcode_Group_Zipcode_Group_6</th>\n",
       "      <th>Zipcode_Group_Zipcode_Group_7</th>\n",
       "      <th>Zipcode_Group_Zipcode_Group_8</th>\n",
       "      <th>Zipcode_Group_Zipcode_Group_9</th>\n",
       "    </tr>\n",
       "  </thead>\n",
       "  <tbody>\n",
       "    <tr>\n",
       "      <th>0</th>\n",
       "      <td>221900.0</td>\n",
       "      <td>3</td>\n",
       "      <td>1.00</td>\n",
       "      <td>1180.0</td>\n",
       "      <td>5650.0</td>\n",
       "      <td>1.0</td>\n",
       "      <td>0</td>\n",
       "      <td>7</td>\n",
       "      <td>1180.0</td>\n",
       "      <td>0</td>\n",
       "      <td>...</td>\n",
       "      <td>0</td>\n",
       "      <td>0</td>\n",
       "      <td>0</td>\n",
       "      <td>0</td>\n",
       "      <td>0</td>\n",
       "      <td>0</td>\n",
       "      <td>0</td>\n",
       "      <td>0</td>\n",
       "      <td>0</td>\n",
       "      <td>0</td>\n",
       "    </tr>\n",
       "    <tr>\n",
       "      <th>1</th>\n",
       "      <td>538000.0</td>\n",
       "      <td>3</td>\n",
       "      <td>2.25</td>\n",
       "      <td>2570.0</td>\n",
       "      <td>7242.0</td>\n",
       "      <td>2.0</td>\n",
       "      <td>0</td>\n",
       "      <td>7</td>\n",
       "      <td>2170.0</td>\n",
       "      <td>400</td>\n",
       "      <td>...</td>\n",
       "      <td>0</td>\n",
       "      <td>0</td>\n",
       "      <td>1</td>\n",
       "      <td>0</td>\n",
       "      <td>0</td>\n",
       "      <td>0</td>\n",
       "      <td>0</td>\n",
       "      <td>0</td>\n",
       "      <td>0</td>\n",
       "      <td>0</td>\n",
       "    </tr>\n",
       "    <tr>\n",
       "      <th>2</th>\n",
       "      <td>180000.0</td>\n",
       "      <td>2</td>\n",
       "      <td>1.00</td>\n",
       "      <td>770.0</td>\n",
       "      <td>10000.0</td>\n",
       "      <td>1.0</td>\n",
       "      <td>0</td>\n",
       "      <td>6</td>\n",
       "      <td>770.0</td>\n",
       "      <td>0</td>\n",
       "      <td>...</td>\n",
       "      <td>0</td>\n",
       "      <td>0</td>\n",
       "      <td>1</td>\n",
       "      <td>0</td>\n",
       "      <td>0</td>\n",
       "      <td>0</td>\n",
       "      <td>0</td>\n",
       "      <td>0</td>\n",
       "      <td>0</td>\n",
       "      <td>0</td>\n",
       "    </tr>\n",
       "    <tr>\n",
       "      <th>3</th>\n",
       "      <td>604000.0</td>\n",
       "      <td>4</td>\n",
       "      <td>3.00</td>\n",
       "      <td>1960.0</td>\n",
       "      <td>5000.0</td>\n",
       "      <td>1.0</td>\n",
       "      <td>0</td>\n",
       "      <td>7</td>\n",
       "      <td>1050.0</td>\n",
       "      <td>910</td>\n",
       "      <td>...</td>\n",
       "      <td>0</td>\n",
       "      <td>0</td>\n",
       "      <td>0</td>\n",
       "      <td>1</td>\n",
       "      <td>0</td>\n",
       "      <td>0</td>\n",
       "      <td>0</td>\n",
       "      <td>0</td>\n",
       "      <td>0</td>\n",
       "      <td>0</td>\n",
       "    </tr>\n",
       "    <tr>\n",
       "      <th>4</th>\n",
       "      <td>510000.0</td>\n",
       "      <td>3</td>\n",
       "      <td>2.00</td>\n",
       "      <td>1680.0</td>\n",
       "      <td>8080.0</td>\n",
       "      <td>1.0</td>\n",
       "      <td>0</td>\n",
       "      <td>8</td>\n",
       "      <td>1680.0</td>\n",
       "      <td>0</td>\n",
       "      <td>...</td>\n",
       "      <td>0</td>\n",
       "      <td>0</td>\n",
       "      <td>0</td>\n",
       "      <td>0</td>\n",
       "      <td>1</td>\n",
       "      <td>0</td>\n",
       "      <td>0</td>\n",
       "      <td>0</td>\n",
       "      <td>0</td>\n",
       "      <td>0</td>\n",
       "    </tr>\n",
       "  </tbody>\n",
       "</table>\n",
       "<p>5 rows × 31 columns</p>\n",
       "</div>"
      ],
      "text/plain": [
       "   Sale_Price  No of Bedrooms  No of Bathrooms  Flat Area (in Sqft)  \\\n",
       "0    221900.0               3             1.00               1180.0   \n",
       "1    538000.0               3             2.25               2570.0   \n",
       "2    180000.0               2             1.00                770.0   \n",
       "3    604000.0               4             3.00               1960.0   \n",
       "4    510000.0               3             2.00               1680.0   \n",
       "\n",
       "   Lot Area (in Sqft)  No of Floors  No of Times Visited  Overall Grade  \\\n",
       "0              5650.0           1.0                    0              7   \n",
       "1              7242.0           2.0                    0              7   \n",
       "2             10000.0           1.0                    0              6   \n",
       "3              5000.0           1.0                    0              7   \n",
       "4              8080.0           1.0                    0              8   \n",
       "\n",
       "   Area of the House from Basement (in Sqft)  Basement Area (in Sqft)  ...  \\\n",
       "0                                     1180.0                        0  ...   \n",
       "1                                     2170.0                      400  ...   \n",
       "2                                      770.0                        0  ...   \n",
       "3                                     1050.0                      910  ...   \n",
       "4                                     1680.0                        0  ...   \n",
       "\n",
       "   Waterfront_View_Yes  Zipcode_Group_Zipcode_Group_1  \\\n",
       "0                    0                              0   \n",
       "1                    0                              0   \n",
       "2                    0                              0   \n",
       "3                    0                              0   \n",
       "4                    0                              0   \n",
       "\n",
       "   Zipcode_Group_Zipcode_Group_2  Zipcode_Group_Zipcode_Group_3  \\\n",
       "0                              0                              0   \n",
       "1                              1                              0   \n",
       "2                              1                              0   \n",
       "3                              0                              1   \n",
       "4                              0                              0   \n",
       "\n",
       "   Zipcode_Group_Zipcode_Group_4  Zipcode_Group_Zipcode_Group_5  \\\n",
       "0                              0                              0   \n",
       "1                              0                              0   \n",
       "2                              0                              0   \n",
       "3                              0                              0   \n",
       "4                              1                              0   \n",
       "\n",
       "   Zipcode_Group_Zipcode_Group_6  Zipcode_Group_Zipcode_Group_7  \\\n",
       "0                              0                              0   \n",
       "1                              0                              0   \n",
       "2                              0                              0   \n",
       "3                              0                              0   \n",
       "4                              0                              0   \n",
       "\n",
       "   Zipcode_Group_Zipcode_Group_8  Zipcode_Group_Zipcode_Group_9  \n",
       "0                              0                              0  \n",
       "1                              0                              0  \n",
       "2                              0                              0  \n",
       "3                              0                              0  \n",
       "4                              0                              0  \n",
       "\n",
       "[5 rows x 31 columns]"
      ]
     },
     "execution_count": 4,
     "metadata": {},
     "output_type": "execute_result"
    }
   ],
   "source": [
    "data.head()"
   ]
  },
  {
   "cell_type": "code",
   "execution_count": 5,
   "id": "704ddc92",
   "metadata": {},
   "outputs": [
    {
     "data": {
      "text/html": [
       "<div>\n",
       "<style scoped>\n",
       "    .dataframe tbody tr th:only-of-type {\n",
       "        vertical-align: middle;\n",
       "    }\n",
       "\n",
       "    .dataframe tbody tr th {\n",
       "        vertical-align: top;\n",
       "    }\n",
       "\n",
       "    .dataframe thead th {\n",
       "        text-align: right;\n",
       "    }\n",
       "</style>\n",
       "<table border=\"1\" class=\"dataframe\">\n",
       "  <thead>\n",
       "    <tr style=\"text-align: right;\">\n",
       "      <th></th>\n",
       "      <th>sale_price</th>\n",
       "      <th>flat_area</th>\n",
       "    </tr>\n",
       "  </thead>\n",
       "  <tbody>\n",
       "    <tr>\n",
       "      <th>0</th>\n",
       "      <td>221900.0</td>\n",
       "      <td>1180.0</td>\n",
       "    </tr>\n",
       "    <tr>\n",
       "      <th>1</th>\n",
       "      <td>538000.0</td>\n",
       "      <td>2570.0</td>\n",
       "    </tr>\n",
       "    <tr>\n",
       "      <th>2</th>\n",
       "      <td>180000.0</td>\n",
       "      <td>770.0</td>\n",
       "    </tr>\n",
       "    <tr>\n",
       "      <th>3</th>\n",
       "      <td>604000.0</td>\n",
       "      <td>1960.0</td>\n",
       "    </tr>\n",
       "    <tr>\n",
       "      <th>4</th>\n",
       "      <td>510000.0</td>\n",
       "      <td>1680.0</td>\n",
       "    </tr>\n",
       "    <tr>\n",
       "      <th>5</th>\n",
       "      <td>1129575.0</td>\n",
       "      <td>5420.0</td>\n",
       "    </tr>\n",
       "    <tr>\n",
       "      <th>6</th>\n",
       "      <td>257500.0</td>\n",
       "      <td>1715.0</td>\n",
       "    </tr>\n",
       "    <tr>\n",
       "      <th>7</th>\n",
       "      <td>291850.0</td>\n",
       "      <td>1060.0</td>\n",
       "    </tr>\n",
       "    <tr>\n",
       "      <th>8</th>\n",
       "      <td>229500.0</td>\n",
       "      <td>1780.0</td>\n",
       "    </tr>\n",
       "    <tr>\n",
       "      <th>9</th>\n",
       "      <td>323000.0</td>\n",
       "      <td>1890.0</td>\n",
       "    </tr>\n",
       "    <tr>\n",
       "      <th>10</th>\n",
       "      <td>662500.0</td>\n",
       "      <td>3560.0</td>\n",
       "    </tr>\n",
       "    <tr>\n",
       "      <th>11</th>\n",
       "      <td>468000.0</td>\n",
       "      <td>1160.0</td>\n",
       "    </tr>\n",
       "    <tr>\n",
       "      <th>12</th>\n",
       "      <td>310000.0</td>\n",
       "      <td>1430.0</td>\n",
       "    </tr>\n",
       "    <tr>\n",
       "      <th>13</th>\n",
       "      <td>400000.0</td>\n",
       "      <td>1370.0</td>\n",
       "    </tr>\n",
       "    <tr>\n",
       "      <th>14</th>\n",
       "      <td>530000.0</td>\n",
       "      <td>1810.0</td>\n",
       "    </tr>\n",
       "    <tr>\n",
       "      <th>15</th>\n",
       "      <td>650000.0</td>\n",
       "      <td>2950.0</td>\n",
       "    </tr>\n",
       "    <tr>\n",
       "      <th>16</th>\n",
       "      <td>395000.0</td>\n",
       "      <td>1890.0</td>\n",
       "    </tr>\n",
       "    <tr>\n",
       "      <th>17</th>\n",
       "      <td>485000.0</td>\n",
       "      <td>1600.0</td>\n",
       "    </tr>\n",
       "    <tr>\n",
       "      <th>18</th>\n",
       "      <td>189000.0</td>\n",
       "      <td>1200.0</td>\n",
       "    </tr>\n",
       "    <tr>\n",
       "      <th>19</th>\n",
       "      <td>230000.0</td>\n",
       "      <td>1250.0</td>\n",
       "    </tr>\n",
       "    <tr>\n",
       "      <th>20</th>\n",
       "      <td>385000.0</td>\n",
       "      <td>1620.0</td>\n",
       "    </tr>\n",
       "    <tr>\n",
       "      <th>21</th>\n",
       "      <td>1129575.0</td>\n",
       "      <td>3050.0</td>\n",
       "    </tr>\n",
       "    <tr>\n",
       "      <th>22</th>\n",
       "      <td>285000.0</td>\n",
       "      <td>2270.0</td>\n",
       "    </tr>\n",
       "    <tr>\n",
       "      <th>23</th>\n",
       "      <td>252700.0</td>\n",
       "      <td>1070.0</td>\n",
       "    </tr>\n",
       "    <tr>\n",
       "      <th>24</th>\n",
       "      <td>329000.0</td>\n",
       "      <td>2450.0</td>\n",
       "    </tr>\n",
       "    <tr>\n",
       "      <th>25</th>\n",
       "      <td>233000.0</td>\n",
       "      <td>1710.0</td>\n",
       "    </tr>\n",
       "    <tr>\n",
       "      <th>26</th>\n",
       "      <td>937000.0</td>\n",
       "      <td>2450.0</td>\n",
       "    </tr>\n",
       "    <tr>\n",
       "      <th>27</th>\n",
       "      <td>667000.0</td>\n",
       "      <td>1400.0</td>\n",
       "    </tr>\n",
       "    <tr>\n",
       "      <th>28</th>\n",
       "      <td>438000.0</td>\n",
       "      <td>1520.0</td>\n",
       "    </tr>\n",
       "    <tr>\n",
       "      <th>29</th>\n",
       "      <td>719000.0</td>\n",
       "      <td>2570.0</td>\n",
       "    </tr>\n",
       "  </tbody>\n",
       "</table>\n",
       "</div>"
      ],
      "text/plain": [
       "    sale_price  flat_area\n",
       "0     221900.0     1180.0\n",
       "1     538000.0     2570.0\n",
       "2     180000.0      770.0\n",
       "3     604000.0     1960.0\n",
       "4     510000.0     1680.0\n",
       "5    1129575.0     5420.0\n",
       "6     257500.0     1715.0\n",
       "7     291850.0     1060.0\n",
       "8     229500.0     1780.0\n",
       "9     323000.0     1890.0\n",
       "10    662500.0     3560.0\n",
       "11    468000.0     1160.0\n",
       "12    310000.0     1430.0\n",
       "13    400000.0     1370.0\n",
       "14    530000.0     1810.0\n",
       "15    650000.0     2950.0\n",
       "16    395000.0     1890.0\n",
       "17    485000.0     1600.0\n",
       "18    189000.0     1200.0\n",
       "19    230000.0     1250.0\n",
       "20    385000.0     1620.0\n",
       "21   1129575.0     3050.0\n",
       "22    285000.0     2270.0\n",
       "23    252700.0     1070.0\n",
       "24    329000.0     2450.0\n",
       "25    233000.0     1710.0\n",
       "26    937000.0     2450.0\n",
       "27    667000.0     1400.0\n",
       "28    438000.0     1520.0\n",
       "29    719000.0     2570.0"
      ]
     },
     "execution_count": 5,
     "metadata": {},
     "output_type": "execute_result"
    }
   ],
   "source": [
    "#we will work on only 2 models comprising of sale price and flat area\n",
    "sale_price = data['Sale_Price'].head(30)\n",
    "flat_area = data['Flat Area (in Sqft)'].head(30)\n",
    "sample_data = pd.DataFrame({'sale_price':sale_price, 'flat_area':flat_area})\n",
    "sample_data"
   ]
  },
  {
   "cell_type": "code",
   "execution_count": 6,
   "id": "1362c200",
   "metadata": {},
   "outputs": [
    {
     "data": {
      "image/png": "[encoded data removed]",
      "text/plain": [
       "<Figure size 900x600 with 1 Axes>"
      ]
     },
     "metadata": {
      "needs_background": "light"
     },
     "output_type": "display_data"
    }
   ],
   "source": [
    "#for better understanding lets plot a graph\n",
    "\n",
    "plt.figure(dpi = 150)\n",
    "plt.scatter(sample_data.flat_area, sample_data.sale_price, color = 'red')\n",
    "plt.xlabel('Flat_Area')\n",
    "plt.ylabel('Sale_Price')\n",
    "plt.title('Sale_Price/Flat_Area')\n",
    "plt.show()"
   ]
  },
  {
   "cell_type": "code",
   "execution_count": 7,
   "id": "88bdc86b",
   "metadata": {},
   "outputs": [
    {
     "data": {
      "image/png": "[encoded data removed]",
      "text/plain": [
       "<Figure size 900x600 with 1 Axes>"
      ]
     },
     "metadata": {
      "needs_background": "light"
     },
     "output_type": "display_data"
    }
   ],
   "source": [
    "sample_data['mean_sale_price'] = sample_data.sale_price.mean()\n",
    "\n",
    "plt.figure(dpi = 150)\n",
    "plt.scatter(sample_data.flat_area, sample_data.sale_price, color = 'red')\n",
    "plt.plot(sample_data.flat_area, sample_data.mean_sale_price, color = 'yellow', label = 'Mean Sale Price')\n",
    "plt.xlabel('Flat_Area')\n",
    "plt.ylabel('Sale_Price')\n",
    "plt.title('Sale_Price/Flat_Area')\n",
    "plt.show()"
   ]
  },
  {
   "cell_type": "code",
   "execution_count": null,
   "id": "7e4f6983",
   "metadata": {},
   "outputs": [],
   "source": [
    "# this yellow line is of no use as it will tell the same price for different houses with diff flat areas\n",
    "# if we draw a diagonal straight line it will will tell almost accurate prices based on sale price\n",
    "# after drawing the line , \"IT WILL OUR FIRST LINEAR REGRESSION MODEL\""
   ]
  },
  {
   "cell_type": "markdown",
   "id": "2f3908e5",
   "metadata": {},
   "source": [
    "# Cost Function Curve"
   ]
  },
  {
   "cell_type": "code",
   "execution_count": 8,
   "id": "1085c0e6",
   "metadata": {},
   "outputs": [
    {
     "data": {
      "image/png": "[encoded data removed]",
      "text/plain": [
       "<Figure size 780x520 with 1 Axes>"
      ]
     },
     "metadata": {
      "needs_background": "light"
     },
     "output_type": "display_data"
    }
   ],
   "source": [
    "c = 0\n",
    "m = 0\n",
    "line = []\n",
    "\n",
    "for i in range(len(sample_data)):\n",
    "    line.append(sample_data.flat_area[i] * m + c)\n",
    "    \n",
    "plt.figure(dpi = 130)\n",
    "plt.scatter(sample_data.flat_area, sample_data.sale_price)\n",
    "plt.plot(sample_data.flat_area, line, label = 'm = 0.0; c = 0')\n",
    "plt.xlabel('Flat_Area')\n",
    "plt.ylabel('Sale_Price')\n",
    "plt.legend()\n",
    "MSE = mse(sample_data.sale_price, line)\n",
    "plt.title('Slope ' + str(m) + ' with MSE' + str(MSE))\n",
    "plt.show()"
   ]
  },
  {
   "cell_type": "code",
   "execution_count": null,
   "id": "911c5ddc",
   "metadata": {},
   "outputs": [],
   "source": [
    "# the line models the data very poorly\n",
    "# MSE is very large\n",
    "# let's try increasing the slope"
   ]
  },
  {
   "cell_type": "code",
   "execution_count": 9,
   "id": "b3615c92",
   "metadata": {},
   "outputs": [
    {
     "data": {
      "image/png": "[encoded data removed]",
      "text/plain": [
       "<Figure size 780x520 with 1 Axes>"
      ]
     },
     "metadata": {
      "needs_background": "light"
     },
     "output_type": "display_data"
    }
   ],
   "source": [
    "c = 0\n",
    "m = 50\n",
    "line = []\n",
    "\n",
    "for i in range(len(sample_data)):\n",
    "    line.append(sample_data.flat_area[i] * m + c)\n",
    "    \n",
    "plt.figure(dpi = 130)\n",
    "plt.scatter(sample_data.flat_area, sample_data.sale_price)\n",
    "plt.plot(sample_data.flat_area, line, label = 'm = 50; c = 0')\n",
    "plt.xlabel('Flat_Area')\n",
    "plt.ylabel('Sale_Price')\n",
    "plt.legend()\n",
    "MSE = mse(sample_data.sale_price, line)\n",
    "plt.title('Slope ' + str(m) + ' with MSE' + str(MSE))\n",
    "plt.show()"
   ]
  },
  {
   "cell_type": "code",
   "execution_count": null,
   "id": "d05c56f6",
   "metadata": {},
   "outputs": [],
   "source": [
    "# the line still  models the data very poorly\n",
    "# MSE is still very large\n",
    "# doing it manualy is a hit&trial method and iterative task\n",
    "# so lets try to reduce our work by automating it and saving our time"
   ]
  },
  {
   "cell_type": "code",
   "execution_count": 10,
   "id": "6782dc79",
   "metadata": {},
   "outputs": [],
   "source": [
    "def slope_error(slope, intercept, sample_data):\n",
    "    sale = []\n",
    "    for i in range(len(sample_data.flat_area)):\n",
    "        tmp = sample_data.flat_area[i] * slope + intercept\n",
    "        sale.append(tmp)\n",
    "    MSE = mse(sample_data.sale_price, sale)\n",
    "    return MSE\n",
    "#this fuction is for finding the right value of slope m"
   ]
  },
  {
   "cell_type": "code",
   "execution_count": 11,
   "id": "82d474c5",
   "metadata": {},
   "outputs": [],
   "source": [
    "slope = [i/10 for i in range(0,5000)] # value will be (0.0, 0.1,....499.9)\n",
    "Cost = []\n",
    "for i in slope:\n",
    "    cost = slope_error(slope = i, intercept = 0, sample_data = sample_data)\n",
    "    Cost.append(cost)"
   ]
  },
  {
   "cell_type": "code",
   "execution_count": 12,
   "id": "240417c7",
   "metadata": {},
   "outputs": [
    {
     "data": {
      "text/html": [
       "<div>\n",
       "<style scoped>\n",
       "    .dataframe tbody tr th:only-of-type {\n",
       "        vertical-align: middle;\n",
       "    }\n",
       "\n",
       "    .dataframe tbody tr th {\n",
       "        vertical-align: top;\n",
       "    }\n",
       "\n",
       "    .dataframe thead th {\n",
       "        text-align: right;\n",
       "    }\n",
       "</style>\n",
       "<table border=\"1\" class=\"dataframe\">\n",
       "  <thead>\n",
       "    <tr style=\"text-align: right;\">\n",
       "      <th></th>\n",
       "      <th>slope</th>\n",
       "      <th>cost</th>\n",
       "    </tr>\n",
       "  </thead>\n",
       "  <tbody>\n",
       "    <tr>\n",
       "      <th>4995</th>\n",
       "      <td>499.5</td>\n",
       "      <td>3.526038e+11</td>\n",
       "    </tr>\n",
       "    <tr>\n",
       "      <th>4996</th>\n",
       "      <td>499.6</td>\n",
       "      <td>3.528488e+11</td>\n",
       "    </tr>\n",
       "    <tr>\n",
       "      <th>4997</th>\n",
       "      <td>499.7</td>\n",
       "      <td>3.530938e+11</td>\n",
       "    </tr>\n",
       "    <tr>\n",
       "      <th>4998</th>\n",
       "      <td>499.8</td>\n",
       "      <td>3.533389e+11</td>\n",
       "    </tr>\n",
       "    <tr>\n",
       "      <th>4999</th>\n",
       "      <td>499.9</td>\n",
       "      <td>3.535842e+11</td>\n",
       "    </tr>\n",
       "  </tbody>\n",
       "</table>\n",
       "</div>"
      ],
      "text/plain": [
       "      slope          cost\n",
       "4995  499.5  3.526038e+11\n",
       "4996  499.6  3.528488e+11\n",
       "4997  499.7  3.530938e+11\n",
       "4998  499.8  3.533389e+11\n",
       "4999  499.9  3.535842e+11"
      ]
     },
     "execution_count": 12,
     "metadata": {},
     "output_type": "execute_result"
    }
   ],
   "source": [
    "# Arranging in DataFrame\n",
    "Cost_table = pd.DataFrame({\n",
    "    'slope' : slope,\n",
    "    'cost' : Cost\n",
    "})\n",
    "Cost_table.tail()"
   ]
  },
  {
   "cell_type": "code",
   "execution_count": 13,
   "id": "529cd600",
   "metadata": {},
   "outputs": [
    {
     "data": {
      "text/plain": [
       "<matplotlib.legend.Legend at 0x218bc604f70>"
      ]
     },
     "execution_count": 13,
     "metadata": {},
     "output_type": "execute_result"
    },
    {
     "data": {
      "image/png": "[encoded data removed]",
      "text/plain": [
       "<Figure size 432x288 with 1 Axes>"
      ]
     },
     "metadata": {
      "needs_background": "light"
     },
     "output_type": "display_data"
    }
   ],
   "source": [
    "# plotting the cost values corresponding to every value of Beta\n",
    "plt.plot(Cost_table.slope, Cost_table.cost, label = 'Cost Function Curve')\n",
    "plt.xlabel('Value of Slope')\n",
    "plt.ylabel('Cost')\n",
    "plt.legend()"
   ]
  },
  {
   "cell_type": "code",
   "execution_count": 17,
   "id": "b03c7bfd",
   "metadata": {},
   "outputs": [
    {
     "data": {
      "text/plain": [
       "234.3"
      ]
     },
     "execution_count": 17,
     "metadata": {},
     "output_type": "execute_result"
    }
   ],
   "source": [
    "new_slope = Cost_table['slope'][Cost_table['cost'] == Cost_table['cost'].min()].values\n",
    "new_slope[0]"
   ]
  },
  {
   "cell_type": "code",
   "execution_count": null,
   "id": "a2a921ee",
   "metadata": {},
   "outputs": [],
   "source": [
    "# we are still mising the value of intercept c\n",
    "# we were just considering the slope m\n",
    "# considering both it will give a 3-D fig"
   ]
  },
  {
   "cell_type": "code",
   "execution_count": 18,
   "id": "e844a3c1",
   "metadata": {},
   "outputs": [],
   "source": [
    "def intercept_error(slope, intercept, sample_data):\n",
    "    sale = []\n",
    "    for i in range(len(sample_data.flat_area)):\n",
    "        tmp = sample_data.flat_area[i] * slope + intercept\n",
    "        sale.append(tmp)\n",
    "    MSE = mse(sample_data.sale_price, sale)\n",
    "    return MSE\n",
    "#this fuction is for finding the right value of intercept c"
   ]
  },
  {
   "cell_type": "code",
   "execution_count": 19,
   "id": "8e6f135f",
   "metadata": {},
   "outputs": [],
   "source": [
    "intercept = [i for i in range(5000,50000)] \n",
    "Cost = []\n",
    "for i in intercept:\n",
    "    cost = intercept_error(slope = 234, intercept = i, sample_data = sample_data)\n",
    "    Cost.append(cost)"
   ]
  },
  {
   "cell_type": "code",
   "execution_count": 20,
   "id": "f8dfc416",
   "metadata": {},
   "outputs": [
    {
     "data": {
      "text/html": [
       "<div>\n",
       "<style scoped>\n",
       "    .dataframe tbody tr th:only-of-type {\n",
       "        vertical-align: middle;\n",
       "    }\n",
       "\n",
       "    .dataframe tbody tr th {\n",
       "        vertical-align: top;\n",
       "    }\n",
       "\n",
       "    .dataframe thead th {\n",
       "        text-align: right;\n",
       "    }\n",
       "</style>\n",
       "<table border=\"1\" class=\"dataframe\">\n",
       "  <thead>\n",
       "    <tr style=\"text-align: right;\">\n",
       "      <th></th>\n",
       "      <th>intercept</th>\n",
       "      <th>cost</th>\n",
       "    </tr>\n",
       "  </thead>\n",
       "  <tbody>\n",
       "    <tr>\n",
       "      <th>0</th>\n",
       "      <td>5000</td>\n",
       "      <td>2.779911e+10</td>\n",
       "    </tr>\n",
       "    <tr>\n",
       "      <th>1</th>\n",
       "      <td>5001</td>\n",
       "      <td>2.779909e+10</td>\n",
       "    </tr>\n",
       "    <tr>\n",
       "      <th>2</th>\n",
       "      <td>5002</td>\n",
       "      <td>2.779908e+10</td>\n",
       "    </tr>\n",
       "    <tr>\n",
       "      <th>3</th>\n",
       "      <td>5003</td>\n",
       "      <td>2.779907e+10</td>\n",
       "    </tr>\n",
       "    <tr>\n",
       "      <th>4</th>\n",
       "      <td>5004</td>\n",
       "      <td>2.779906e+10</td>\n",
       "    </tr>\n",
       "  </tbody>\n",
       "</table>\n",
       "</div>"
      ],
      "text/plain": [
       "   intercept          cost\n",
       "0       5000  2.779911e+10\n",
       "1       5001  2.779909e+10\n",
       "2       5002  2.779908e+10\n",
       "3       5003  2.779907e+10\n",
       "4       5004  2.779906e+10"
      ]
     },
     "execution_count": 20,
     "metadata": {},
     "output_type": "execute_result"
    }
   ],
   "source": [
    "# Arranging in DataFrame\n",
    "Cost_table = pd.DataFrame({\n",
    "    'intercept' : intercept,\n",
    "    'cost' : Cost\n",
    "})\n",
    "Cost_table.head()"
   ]
  },
  {
   "cell_type": "code",
   "execution_count": 21,
   "id": "bbb16434",
   "metadata": {},
   "outputs": [
    {
     "data": {
      "text/plain": [
       "<matplotlib.legend.Legend at 0x218bc6436d0>"
      ]
     },
     "execution_count": 21,
     "metadata": {},
     "output_type": "execute_result"
    },
    {
     "data": {
      "image/png": "[encoded data removed]",
      "text/plain": [
       "<Figure size 432x288 with 1 Axes>"
      ]
     },
     "metadata": {
      "needs_background": "light"
     },
     "output_type": "display_data"
    }
   ],
   "source": [
    "# plotting the cost values corresponding to every value of Beta\n",
    "plt.plot(Cost_table.intercept, Cost_table.cost, label = 'Cost Function Curve')\n",
    "plt.xlabel('Value of Intercept')\n",
    "plt.ylabel('Cost')\n",
    "plt.legend()"
   ]
  },
  {
   "cell_type": "code",
   "execution_count": 23,
   "id": "fc7c295f",
   "metadata": {},
   "outputs": [
    {
     "data": {
      "text/plain": [
       "10834"
      ]
     },
     "execution_count": 23,
     "metadata": {},
     "output_type": "execute_result"
    }
   ],
   "source": [
    "new_intercept = Cost_table['intercept'][Cost_table['cost'] == Cost_table['cost'].min()].values\n",
    "new_intercept[0]"
   ]
  },
  {
   "cell_type": "code",
   "execution_count": null,
   "id": "c1345915",
   "metadata": {},
   "outputs": [],
   "source": [
    "# we now have a optimal value of both m & c\n",
    "# m = 234\n",
    "# c = 10834\n",
    "#but it is not the ideal value of both \"go through notes\""
   ]
  },
  {
   "cell_type": "code",
   "execution_count": 24,
   "id": "42dd5f08",
   "metadata": {},
   "outputs": [],
   "source": [
    "# lets put value of c to find m\n",
    "slope = [i/10 for i in range(0,5000)] # value will be (0.0, 0.1,....499.9)\n",
    "Cost = []\n",
    "for i in slope:\n",
    "    cost = slope_error(slope = i, intercept = 10834, sample_data = sample_data)\n",
    "    Cost.append(cost)"
   ]
  },
  {
   "cell_type": "code",
   "execution_count": 25,
   "id": "0d7be609",
   "metadata": {},
   "outputs": [
    {
     "data": {
      "text/html": [
       "<div>\n",
       "<style scoped>\n",
       "    .dataframe tbody tr th:only-of-type {\n",
       "        vertical-align: middle;\n",
       "    }\n",
       "\n",
       "    .dataframe tbody tr th {\n",
       "        vertical-align: top;\n",
       "    }\n",
       "\n",
       "    .dataframe thead th {\n",
       "        text-align: right;\n",
       "    }\n",
       "</style>\n",
       "<table border=\"1\" class=\"dataframe\">\n",
       "  <thead>\n",
       "    <tr style=\"text-align: right;\">\n",
       "      <th></th>\n",
       "      <th>slope</th>\n",
       "      <th>cost</th>\n",
       "    </tr>\n",
       "  </thead>\n",
       "  <tbody>\n",
       "    <tr>\n",
       "      <th>4995</th>\n",
       "      <td>499.5</td>\n",
       "      <td>3.636767e+11</td>\n",
       "    </tr>\n",
       "    <tr>\n",
       "      <th>4996</th>\n",
       "      <td>499.6</td>\n",
       "      <td>3.639259e+11</td>\n",
       "    </tr>\n",
       "    <tr>\n",
       "      <th>4997</th>\n",
       "      <td>499.7</td>\n",
       "      <td>3.641751e+11</td>\n",
       "    </tr>\n",
       "    <tr>\n",
       "      <th>4998</th>\n",
       "      <td>499.8</td>\n",
       "      <td>3.644245e+11</td>\n",
       "    </tr>\n",
       "    <tr>\n",
       "      <th>4999</th>\n",
       "      <td>499.9</td>\n",
       "      <td>3.646739e+11</td>\n",
       "    </tr>\n",
       "  </tbody>\n",
       "</table>\n",
       "</div>"
      ],
      "text/plain": [
       "      slope          cost\n",
       "4995  499.5  3.636767e+11\n",
       "4996  499.6  3.639259e+11\n",
       "4997  499.7  3.641751e+11\n",
       "4998  499.8  3.644245e+11\n",
       "4999  499.9  3.646739e+11"
      ]
     },
     "execution_count": 25,
     "metadata": {},
     "output_type": "execute_result"
    }
   ],
   "source": [
    "Cost_table = pd.DataFrame({\n",
    "    'slope' : slope,\n",
    "    'cost' : Cost\n",
    "})\n",
    "Cost_table.tail()"
   ]
  },
  {
   "cell_type": "code",
   "execution_count": 26,
   "id": "bb7c4295",
   "metadata": {},
   "outputs": [
    {
     "data": {
      "text/plain": [
       "229.7"
      ]
     },
     "execution_count": 26,
     "metadata": {},
     "output_type": "execute_result"
    }
   ],
   "source": [
    "new_slope = Cost_table['slope'][Cost_table['cost'] == Cost_table['cost'].min()].values\n",
    "new_slope[0]"
   ]
  },
  {
   "cell_type": "code",
   "execution_count": 27,
   "id": "1d1ea9f1",
   "metadata": {},
   "outputs": [],
   "source": [
    "# we got a new value of m\n",
    "# lets calculate the value of c again using new m\n",
    "intercept = [i for i in range(5000,50000)] \n",
    "Cost = []\n",
    "for i in intercept:\n",
    "    cost = intercept_error(slope = 229.7, intercept = i, sample_data = sample_data)\n",
    "    Cost.append(cost)"
   ]
  },
  {
   "cell_type": "code",
   "execution_count": 29,
   "id": "c8f7cb2d",
   "metadata": {},
   "outputs": [
    {
     "data": {
      "text/html": [
       "<div>\n",
       "<style scoped>\n",
       "    .dataframe tbody tr th:only-of-type {\n",
       "        vertical-align: middle;\n",
       "    }\n",
       "\n",
       "    .dataframe tbody tr th {\n",
       "        vertical-align: top;\n",
       "    }\n",
       "\n",
       "    .dataframe thead th {\n",
       "        text-align: right;\n",
       "    }\n",
       "</style>\n",
       "<table border=\"1\" class=\"dataframe\">\n",
       "  <thead>\n",
       "    <tr style=\"text-align: right;\">\n",
       "      <th></th>\n",
       "      <th>intercept</th>\n",
       "      <th>cost</th>\n",
       "    </tr>\n",
       "  </thead>\n",
       "  <tbody>\n",
       "    <tr>\n",
       "      <th>0</th>\n",
       "      <td>5000</td>\n",
       "      <td>2.781305e+10</td>\n",
       "    </tr>\n",
       "    <tr>\n",
       "      <th>1</th>\n",
       "      <td>5001</td>\n",
       "      <td>2.781302e+10</td>\n",
       "    </tr>\n",
       "    <tr>\n",
       "      <th>2</th>\n",
       "      <td>5002</td>\n",
       "      <td>2.781299e+10</td>\n",
       "    </tr>\n",
       "    <tr>\n",
       "      <th>3</th>\n",
       "      <td>5003</td>\n",
       "      <td>2.781296e+10</td>\n",
       "    </tr>\n",
       "    <tr>\n",
       "      <th>4</th>\n",
       "      <td>5004</td>\n",
       "      <td>2.781293e+10</td>\n",
       "    </tr>\n",
       "  </tbody>\n",
       "</table>\n",
       "</div>"
      ],
      "text/plain": [
       "   intercept          cost\n",
       "0       5000  2.781305e+10\n",
       "1       5001  2.781302e+10\n",
       "2       5002  2.781299e+10\n",
       "3       5003  2.781296e+10\n",
       "4       5004  2.781293e+10"
      ]
     },
     "execution_count": 29,
     "metadata": {},
     "output_type": "execute_result"
    }
   ],
   "source": [
    "# Arranging in DataFrame\n",
    "Cost_table = pd.DataFrame({\n",
    "    'intercept' : intercept,\n",
    "    'cost' : Cost\n",
    "})\n",
    "Cost_table.head()"
   ]
  },
  {
   "cell_type": "code",
   "execution_count": 30,
   "id": "2cb080fb",
   "metadata": {},
   "outputs": [
    {
     "data": {
      "text/plain": [
       "19199"
      ]
     },
     "execution_count": 30,
     "metadata": {},
     "output_type": "execute_result"
    }
   ],
   "source": [
    "new_intercept = Cost_table['intercept'][Cost_table['cost'] == Cost_table['cost'].min()].values\n",
    "new_intercept[0]"
   ]
  },
  {
   "cell_type": "code",
   "execution_count": 31,
   "id": "98332251",
   "metadata": {},
   "outputs": [],
   "source": [
    "# we have to repeat this cycle untill we reach a point after which the values of m and c doesn't change\n",
    "# in our case it will be\n",
    "# m = 219\n",
    "# c = 39428\n",
    "# THE BEST FIT LINE or THE BEST LINEAR REGRESSION MODEL : Y = 219X + 39428\n",
    "########### \" PLEASE GO THROUGH NOTES AS WELL \" ##########"
   ]
  },
  {
   "cell_type": "markdown",
   "id": "14fc9988",
   "metadata": {},
   "source": [
    "# Gradient Descent"
   ]
  },
  {
   "cell_type": "code",
   "execution_count": 32,
   "id": "4d1e8285",
   "metadata": {},
   "outputs": [],
   "source": [
    "# STEP-1\n",
    "def param_init(Y):\n",
    "    '''\n",
    "    Y = target variable\n",
    "    returns initialised values of m & c\n",
    "    '''\n",
    "    \n",
    "    m = 0.1\n",
    "    c = Y.mean()\n",
    "    return m, c"
   ]
  },
  {
   "cell_type": "code",
   "execution_count": 41,
   "id": "faa6d8ee",
   "metadata": {},
   "outputs": [],
   "source": [
    "# STEP-2\n",
    "def generate_predictions(m, c, X):\n",
    "    '''\n",
    "    X = independent variable\n",
    "    returns prediction generated by line with parameters m, c\n",
    "    '''\n",
    "    \n",
    "    prediction = []\n",
    "    for x in X:\n",
    "        pred = m*x + c\n",
    "        prediction.append(pred)\n",
    "    return prediction"
   ]
  },
  {
   "cell_type": "code",
   "execution_count": 34,
   "id": "dbfc7698",
   "metadata": {},
   "outputs": [],
   "source": [
    "# Step-3\n",
    "def compute_cost(prediction, Y):\n",
    "    '''\n",
    "    returns the mean_squared_error between Prediction & Y\n",
    "    '''\n",
    "    \n",
    "    cost = np.sum(((prediction - Y)**2)/len(Y))\n",
    "    return cost"
   ]
  },
  {
   "cell_type": "code",
   "execution_count": 35,
   "id": "41674e62",
   "metadata": {},
   "outputs": [],
   "source": [
    "# STEP-4\n",
    "def gradients(prediction, Y, X):\n",
    "    '''\n",
    "    returns Gradients correspnding to m & c\n",
    "    '''\n",
    "    \n",
    "    n = len(Y)\n",
    "    Gm = 2/n * np.sum((prediction - Y) * X)\n",
    "    Gc = 2/n * np.sum((prediction - Y))\n",
    "    return Gm, Gc"
   ]
  },
  {
   "cell_type": "code",
   "execution_count": 36,
   "id": "cb723f79",
   "metadata": {},
   "outputs": [],
   "source": [
    "# updating parameters\n",
    "def param_update(m_old, c_old, Gm_old, Gc_old, alpha):\n",
    "    '''\n",
    "    update and return the new values of m & c\n",
    "    '''\n",
    "    \n",
    "    m_new = m_old - alpha * Gm_old\n",
    "    c_new = c_old - alpha * Gc_old\n",
    "    \n",
    "    return m_new, c_new"
   ]
  },
  {
   "cell_type": "code",
   "execution_count": 37,
   "id": "2cb3f36c",
   "metadata": {},
   "outputs": [],
   "source": [
    "# to print the final result of GRADIENT DESCENT\n",
    "def result(m, c, X, Y, cost, predictions, i):\n",
    "    '''\n",
    "    print and plot the final result obtained from gradient descent\n",
    "    '''\n",
    "    \n",
    "    ##if the gradient descent converged to the obtimum value before max_iteration\n",
    "    if i < max_iter - 1:\n",
    "        print('********* Gradient Descent has converged at iteration {} *********'.format(i))\n",
    "    else:\n",
    "        print('********* Result after', max_iter, 'iteration is : *********')\n",
    "        \n",
    "    #### Plotting the final result\n",
    "    plt.figure(figsize = (14,7), dpi = 120)\n",
    "    plt.scatter(X, Y, color = 'red', label = 'data points')\n",
    "    \n",
    "    #### Plotting the final regression line\n",
    "    label = 'final regression line: m = {}; c = {}'.format(str(m), str(c))\n",
    "    plt.plot(X, predictions, color = 'green', label = label)\n",
    "    plt.xlabel('Flat_Area')\n",
    "    plt.ylabel('Sale_Price')\n",
    "    plt.title('Final Regresion Line')\n",
    "    plt.legend()"
   ]
  },
  {
   "cell_type": "code",
   "execution_count": 38,
   "id": "663c7167",
   "metadata": {},
   "outputs": [],
   "source": [
    "# Let's combine them all"
   ]
  },
  {
   "cell_type": "code",
   "execution_count": 44,
   "id": "c6e27975",
   "metadata": {},
   "outputs": [
    {
     "name": "stdout",
     "output_type": "stream",
     "text": [
      "After iteration  0  : m =  3499072.307222223  ; c =  465999.44299999997  ; cost =  64177937552.075005\n",
      "After iteration  20  : m =  7.115927055971628e+105  ; c =  2.997778392048355e+102  ; cost =  2.7417231010181384e+208\n",
      "After iteration  40  : m =  1.447154337383132e+205  ; c =  6.096532424296826e+201  ; cost =  inf\n",
      "After iteration  60  : m =  2.9430538842431367e+304  ; c =  1.2398417341018387e+301  ; cost =  inf\n",
      "After iteration  80  : m =  nan  ; c =  nan  ; cost =  nan\n",
      "After iteration  100  : m =  nan  ; c =  nan  ; cost =  nan\n",
      "After iteration  120  : m =  nan  ; c =  nan  ; cost =  nan\n",
      "After iteration  140  : m =  nan  ; c =  nan  ; cost =  nan\n",
      "After iteration  160  : m =  nan  ; c =  nan  ; cost =  nan\n",
      "After iteration  180  : m =  nan  ; c =  nan  ; cost =  nan\n",
      "After iteration  200  : m =  nan  ; c =  nan  ; cost =  nan\n",
      "After iteration  220  : m =  nan  ; c =  nan  ; cost =  nan\n",
      "After iteration  240  : m =  nan  ; c =  nan  ; cost =  nan\n",
      "After iteration  260  : m =  nan  ; c =  nan  ; cost =  nan\n",
      "After iteration  280  : m =  nan  ; c =  nan  ; cost =  nan\n",
      "After iteration  300  : m =  nan  ; c =  nan  ; cost =  nan\n",
      "After iteration  320  : m =  nan  ; c =  nan  ; cost =  nan\n",
      "After iteration  340  : m =  nan  ; c =  nan  ; cost =  nan\n"
     ]
    },
    {
     "name": "stderr",
     "output_type": "stream",
     "text": [
      "<ipython-input-34-ee6df03aef0c>:7: RuntimeWarning: overflow encountered in square\n",
      "  cost = np.sum(((prediction - Y)**2)/len(Y))\n",
      "<ipython-input-44-9635706c66e1>:23: RuntimeWarning: invalid value encountered in double_scalars\n",
      "  if abs(cost_new - cost_old) < 10**(-7):\n",
      "<ipython-input-35-90825aa848e3>:8: RuntimeWarning: overflow encountered in multiply\n",
      "  Gm = 2/n * np.sum((prediction - Y) * X)\n",
      "C:\\Users\\ABC\\anaconda3\\lib\\site-packages\\numpy\\core\\fromnumeric.py:87: RuntimeWarning: overflow encountered in reduce\n",
      "  return ufunc.reduce(obj, axis, dtype, out, **passkwargs)\n",
      "<ipython-input-36-593c7441ba3f>:7: RuntimeWarning: invalid value encountered in double_scalars\n",
      "  m_new = m_old - alpha * Gm_old\n",
      "<ipython-input-36-593c7441ba3f>:8: RuntimeWarning: invalid value encountered in double_scalars\n",
      "  c_new = c_old - alpha * Gc_old\n"
     ]
    },
    {
     "name": "stdout",
     "output_type": "stream",
     "text": [
      "After iteration  360  : m =  nan  ; c =  nan  ; cost =  nan\n",
      "After iteration  380  : m =  nan  ; c =  nan  ; cost =  nan\n",
      "After iteration  400  : m =  nan  ; c =  nan  ; cost =  nan\n",
      "After iteration  420  : m =  nan  ; c =  nan  ; cost =  nan\n",
      "After iteration  440  : m =  nan  ; c =  nan  ; cost =  nan\n",
      "After iteration  460  : m =  nan  ; c =  nan  ; cost =  nan\n",
      "After iteration  480  : m =  nan  ; c =  nan  ; cost =  nan\n",
      "After iteration  500  : m =  nan  ; c =  nan  ; cost =  nan\n",
      "After iteration  520  : m =  nan  ; c =  nan  ; cost =  nan\n",
      "After iteration  540  : m =  nan  ; c =  nan  ; cost =  nan\n",
      "After iteration  560  : m =  nan  ; c =  nan  ; cost =  nan\n",
      "After iteration  580  : m =  nan  ; c =  nan  ; cost =  nan\n",
      "After iteration  600  : m =  nan  ; c =  nan  ; cost =  nan\n",
      "After iteration  620  : m =  nan  ; c =  nan  ; cost =  nan\n",
      "After iteration  640  : m =  nan  ; c =  nan  ; cost =  nan\n",
      "After iteration  660  : m =  nan  ; c =  nan  ; cost =  nan\n",
      "After iteration  680  : m =  nan  ; c =  nan  ; cost =  nan\n",
      "After iteration  700  : m =  nan  ; c =  nan  ; cost =  nan\n",
      "After iteration  720  : m =  nan  ; c =  nan  ; cost =  nan\n",
      "After iteration  740  : m =  nan  ; c =  nan  ; cost =  nan\n",
      "After iteration  760  : m =  nan  ; c =  nan  ; cost =  nan\n",
      "After iteration  780  : m =  nan  ; c =  nan  ; cost =  nan\n",
      "After iteration  800  : m =  nan  ; c =  nan  ; cost =  nan\n",
      "After iteration  820  : m =  nan  ; c =  nan  ; cost =  nan\n",
      "After iteration  840  : m =  nan  ; c =  nan  ; cost =  nan\n",
      "After iteration  860  : m =  nan  ; c =  nan  ; cost =  nan\n",
      "After iteration  880  : m =  nan  ; c =  nan  ; cost =  nan\n",
      "After iteration  900  : m =  nan  ; c =  nan  ; cost =  nan\n",
      "After iteration  920  : m =  nan  ; c =  nan  ; cost =  nan\n",
      "After iteration  940  : m =  nan  ; c =  nan  ; cost =  nan\n",
      "After iteration  960  : m =  nan  ; c =  nan  ; cost =  nan\n",
      "After iteration  980  : m =  nan  ; c =  nan  ; cost =  nan\n",
      "********* Result after 1000 iteration is : *********\n"
     ]
    },
    {
     "data": {
      "image/png": "[encoded data removed]",
      "text/plain": [
       "<Figure size 1680x840 with 1 Axes>"
      ]
     },
     "metadata": {
      "needs_background": "light"
     },
     "output_type": "display_data"
    }
   ],
   "source": [
    "# defining and reshaping the dataset\n",
    "sale_price = sample_data['sale_price'].values.reshape(-1,1)\n",
    "flat_area = sample_data['flat_area'].values.reshape(-1,1)\n",
    "\n",
    "# declaring parameters\n",
    "max_iter = 1000\n",
    "cost_old = 0\n",
    "alpha = 0.01\n",
    "\n",
    "## STEP-1 Initializing the values of m & c\n",
    "m, c = param_init(sale_price)\n",
    "\n",
    "## Gradient descent in action\n",
    "for i in range(0, max_iter):\n",
    "    \n",
    "    ## STEP-2 Generating Predictions\n",
    "    predictions = generate_predictions(m, c, flat_area)\n",
    "    \n",
    "    ## STEP-3 Calculating Cost\n",
    "    cost_new = compute_cost(predictions, sale_price)\n",
    "    \n",
    "    ## Checking if gradient converged\n",
    "    if abs(cost_new - cost_old) < 10**(-7):\n",
    "        break;\n",
    "    \n",
    "    ## Calculating Gradients\n",
    "    Gm, Gc = gradients(predictions, sale_price, flat_area)\n",
    "    \n",
    "    ## STEP-4 Updating parameters m & c\n",
    "    m, c = param_update(m, c, Gm, Gc, alpha)\n",
    "    \n",
    "    ## Display results after every 20 iterations\n",
    "    if i%20 == 0:\n",
    "        print('After iteration ', i, ' : m = ', m, ' ; c = ', c, ' ; cost = ', cost_new)\n",
    "        \n",
    "    ## Updating cost_old\n",
    "    cost_old = cost_new\n",
    "    \n",
    "## Final Result\n",
    "result(m, c, flat_area, sale_price, cost_new, predictions, i)"
   ]
  },
  {
   "cell_type": "code",
   "execution_count": 45,
   "id": "b8c6029d",
   "metadata": {},
   "outputs": [],
   "source": [
    "# we can see in 1st 3-4 lines of output that the magnitude of m, c is very high\n",
    "############# THIS PROBLEM ARRISED BECAUSE WE DIDN\"T SCALED OUR DATA ##############"
   ]
  },
  {
   "cell_type": "code",
   "execution_count": 48,
   "id": "c0483ee2",
   "metadata": {},
   "outputs": [
    {
     "name": "stdout",
     "output_type": "stream",
     "text": [
      "After iteration  0  : m =  0.11316346413633305  ; c =  1.1849780416165836e-16  ; cost =  0.85836535863667\n",
      "After iteration  20  : m =  0.3275595607435688  ; c =  1.240489192847842e-16  ; cost =  0.6182472245590185\n",
      "After iteration  40  : m =  0.4706921039517346  ; c =  1.3248661427193537e-16  ; cost =  0.5112264752046607\n",
      "After iteration  60  : m =  0.5662485308150865  ; c =  1.415904430738617e-16  ; cost =  0.46352728398628984\n",
      "After iteration  80  : m =  0.6300427631414932  ; c =  1.4951003398285442e-16  ; cost =  0.4422677351921283\n",
      "After iteration  100  : m =  0.6726323011945988  ; c =  1.611303683072644e-16  ; cost =  0.4327923457067555\n",
      "After iteration  120  : m =  0.7010654163122192  ; c =  1.666074685620818e-16  ; cost =  0.42856916078553225\n",
      "After iteration  140  : m =  0.7200475906265729  ; c =  1.6660746856208182e-16  ; cost =  0.4266868855601835\n",
      "After iteration  160  : m =  0.7327202415200801  ; c =  1.669405354694694e-16  ; cost =  0.42584795473189874\n",
      "After iteration  180  : m =  0.7411806042798547  ; c =  1.6694053546946945e-16  ; cost =  0.42547404292284524\n",
      "After iteration  200  : m =  0.7468288099022201  ; c =  1.6760666928424454e-16  ; cost =  0.42530739027850817\n",
      "After iteration  220  : m =  0.7505995970018231  ; c =  1.6605235704976932e-16  ; cost =  0.42523311312760764\n",
      "After iteration  240  : m =  0.7531170045293095  ; c =  1.6642243139131105e-16  ; cost =  0.4252000077714469\n",
      "After iteration  260  : m =  0.7547976458628156  ; c =  1.6716258007439448e-16  ; cost =  0.42518525270083307\n",
      "After iteration  280  : m =  0.7559196554147255  ; c =  1.6686652060116111e-16  ; cost =  0.4251786763599003\n",
      "********* Gradient Descent has converged at iteration 300 *********\n"
     ]
    },
    {
     "data": {
      "image/png": "[encoded data removed]",
      "text/plain": [
       "<Figure size 1680x840 with 1 Axes>"
      ]
     },
     "metadata": {
      "needs_background": "light"
     },
     "output_type": "display_data"
    }
   ],
   "source": [
    "## Scaling the dataset using the standard scaler\n",
    "from sklearn.preprocessing import StandardScaler\n",
    "scaler = StandardScaler()\n",
    "\n",
    "# defining and reshaping the dataset\n",
    "sale_price = scaler.fit_transform(sample_data['sale_price'].values.reshape(-1,1))\n",
    "flat_area = scaler.fit_transform(sample_data['flat_area'].values.reshape(-1,1))\n",
    "\n",
    "# declaring parameters\n",
    "max_iter = 1000\n",
    "cost_old = 0\n",
    "alpha = 0.01\n",
    "\n",
    "## STEP-1 Initializing the values of m & c\n",
    "m, c = param_init(sale_price)\n",
    "\n",
    "## Gradient descent in action\n",
    "for i in range(0, max_iter):\n",
    "    \n",
    "    ## STEP-2 Generating Predictions\n",
    "    predictions = generate_predictions(m, c, flat_area)\n",
    "    \n",
    "    ## STEP-3 Calculating Cost\n",
    "    cost_new = compute_cost(predictions, sale_price)\n",
    "    \n",
    "    ## Checking if gradient converged\n",
    "    if abs(cost_new - cost_old) < 10**(-7):\n",
    "        break;\n",
    "    \n",
    "    ## Calculating Gradients\n",
    "    Gm, Gc = gradients(predictions, sale_price, flat_area)\n",
    "    \n",
    "    ## STEP-4 Updating parameters m & c\n",
    "    m, c = param_update(m, c, Gm, Gc, alpha)\n",
    "    \n",
    "    ## Display results after every 20 iterations\n",
    "    if i%20 == 0:\n",
    "        print('After iteration ', i, ' : m = ', m, ' ; c = ', c, ' ; cost = ', cost_new)\n",
    "        \n",
    "    ## Updating cost_old\n",
    "    cost_old = cost_new\n",
    "    \n",
    "## Final Result\n",
    "result(m, c, flat_area, sale_price, cost_new, predictions, i)"
   ]
  },
  {
   "cell_type": "code",
   "execution_count": 49,
   "id": "17eac5df",
   "metadata": {},
   "outputs": [],
   "source": [
    "# So we can clearly see that the cost is gradually decresing after every iteration\n",
    "# Values of m & c are also gradually converging to their optimal values\n",
    "# Gradient Descent converged after exactly 300 iterations\n",
    "# in the graph we can clearly see the final regresion line and the final parameters \n",
    "######################## GO THROUGH NOTES OF GRADIENT DESCENT TO UNDERSTAND ALL THE STEPS ###############################"
   ]
  }
 ],
 "metadata": {
  "kernelspec": {
   "display_name": "Python 3",
   "language": "python",
   "name": "python3"
  },
  "language_info": {
   "codemirror_mode": {
    "name": "ipython",
    "version": 3
   },
   "file_extension": ".py",
   "mimetype": "text/x-python",
   "name": "python",
   "nbconvert_exporter": "python",
   "pygments_lexer": "ipython3",
   "version": "3.8.8"
  }
 },
 "nbformat": 4,
 "nbformat_minor": 5
}
