{
 "cells": [
  {
   "cell_type": "code",
   "execution_count": 1,
   "id": "d3ddab6b",
   "metadata": {},
   "outputs": [],
   "source": [
    "import pandas as pd"
   ]
  },
  {
   "cell_type": "code",
   "execution_count": 5,
   "id": "428ba514",
   "metadata": {},
   "outputs": [],
   "source": [
    "Raw_Housing_Data = pd.read_csv(\"2. Raw_Housing_Prices2.xls\")"
   ]
  },
  {
   "cell_type": "code",
   "execution_count": 6,
   "id": "2e77fd7d",
   "metadata": {},
   "outputs": [
    {
     "data": {
      "text/plain": [
       "5034"
      ]
     },
     "execution_count": 6,
     "metadata": {},
     "output_type": "execute_result"
    }
   ],
   "source": [
    "len(Raw_Housing_Data['Latitude'].unique())"
   ]
  },
  {
   "cell_type": "code",
   "execution_count": 7,
   "id": "ed026313",
   "metadata": {},
   "outputs": [
    {
     "name": "stdout",
     "output_type": "stream",
     "text": [
      "<class 'pandas.core.frame.DataFrame'>\n",
      "RangeIndex: 21609 entries, 0 to 21608\n",
      "Data columns (total 21 columns):\n",
      " #   Column                                     Non-Null Count  Dtype  \n",
      "---  ------                                     --------------  -----  \n",
      " 0   ID                                         21609 non-null  int64  \n",
      " 1   Date House was Sold                        21609 non-null  object \n",
      " 2   Sale Price                                 21609 non-null  float64\n",
      " 3   No of Bedrooms                             21609 non-null  int64  \n",
      " 4   No of Bathrooms                            21605 non-null  float64\n",
      " 5   Flat Area (in Sqft)                        21600 non-null  float64\n",
      " 6   Lot Area (in Sqft)                         21600 non-null  float64\n",
      " 7   No of Floors                               21609 non-null  float64\n",
      " 8   Waterfront View                            21609 non-null  object \n",
      " 9   No of Times Visited                        21609 non-null  object \n",
      " 10  Condition of the House                     21609 non-null  object \n",
      " 11  Overall Grade                              21609 non-null  int64  \n",
      " 12  Area of the House from Basement (in Sqft)  21606 non-null  float64\n",
      " 13  Basement Area (in Sqft)                    21609 non-null  int64  \n",
      " 14  Age of House (in Years)                    21609 non-null  int64  \n",
      " 15  Renovated Year                             21609 non-null  int64  \n",
      " 16  Zipcode                                    21608 non-null  float64\n",
      " 17  Latitude                                   21608 non-null  float64\n",
      " 18  Longitude                                  21608 non-null  float64\n",
      " 19  Living Area after Renovation (in Sqft)     21608 non-null  float64\n",
      " 20  Lot Area after Renovation (in Sqft)        21609 non-null  int64  \n",
      "dtypes: float64(10), int64(7), object(4)\n",
      "memory usage: 3.5+ MB\n"
     ]
    }
   ],
   "source": [
    "Raw_Housing_Data.info()"
   ]
  },
  {
   "cell_type": "code",
   "execution_count": 10,
   "id": "f7e84de8",
   "metadata": {},
   "outputs": [],
   "source": [
    "# as there are a number of columns with missing value , *we will inpute all numerical variable names into single column*\n",
    "numerical_column = ['No of Bathrooms','Flat Area (in Sqft)','Lot Area (in Sqft)','Area of the House from Basement (in Sqft)','Latitude','Longitude','Living Area after Renovation (in Sqft)']"
   ]
  },
  {
   "cell_type": "code",
   "execution_count": 14,
   "id": "7e1ecb61",
   "metadata": {},
   "outputs": [],
   "source": [
    "import numpy as np"
   ]
  },
  {
   "cell_type": "code",
   "execution_count": 15,
   "id": "058f8339",
   "metadata": {},
   "outputs": [],
   "source": [
    "from sklearn.impute import SimpleImputer\n",
    "imputer = SimpleImputer(missing_values= np.nan, strategy = 'median')\n",
    "Raw_Housing_Data[numerical_column] = imputer.fit_transform(Raw_Housing_Data[numerical_column])"
   ]
  },
  {
   "cell_type": "code",
   "execution_count": 16,
   "id": "57b4d095",
   "metadata": {},
   "outputs": [
    {
     "name": "stdout",
     "output_type": "stream",
     "text": [
      "<class 'pandas.core.frame.DataFrame'>\n",
      "RangeIndex: 21609 entries, 0 to 21608\n",
      "Data columns (total 21 columns):\n",
      " #   Column                                     Non-Null Count  Dtype  \n",
      "---  ------                                     --------------  -----  \n",
      " 0   ID                                         21609 non-null  int64  \n",
      " 1   Date House was Sold                        21609 non-null  object \n",
      " 2   Sale Price                                 21609 non-null  float64\n",
      " 3   No of Bedrooms                             21609 non-null  int64  \n",
      " 4   No of Bathrooms                            21609 non-null  float64\n",
      " 5   Flat Area (in Sqft)                        21609 non-null  float64\n",
      " 6   Lot Area (in Sqft)                         21609 non-null  float64\n",
      " 7   No of Floors                               21609 non-null  float64\n",
      " 8   Waterfront View                            21609 non-null  object \n",
      " 9   No of Times Visited                        21609 non-null  object \n",
      " 10  Condition of the House                     21609 non-null  object \n",
      " 11  Overall Grade                              21609 non-null  int64  \n",
      " 12  Area of the House from Basement (in Sqft)  21609 non-null  float64\n",
      " 13  Basement Area (in Sqft)                    21609 non-null  int64  \n",
      " 14  Age of House (in Years)                    21609 non-null  int64  \n",
      " 15  Renovated Year                             21609 non-null  int64  \n",
      " 16  Zipcode                                    21608 non-null  float64\n",
      " 17  Latitude                                   21609 non-null  float64\n",
      " 18  Longitude                                  21609 non-null  float64\n",
      " 19  Living Area after Renovation (in Sqft)     21609 non-null  float64\n",
      " 20  Lot Area after Renovation (in Sqft)        21609 non-null  int64  \n",
      "dtypes: float64(10), int64(7), object(4)\n",
      "memory usage: 3.5+ MB\n"
     ]
    }
   ],
   "source": [
    "Raw_Housing_Data.info()\n",
    "# all the variables are now updated with 21609 values (but zipcode is left bcz its categorical type)"
   ]
  },
  {
   "cell_type": "code",
   "execution_count": 18,
   "id": "25ae64a8",
   "metadata": {},
   "outputs": [
    {
     "ename": "ValueError",
     "evalue": "Expected 2D array, got 1D array instead:\narray=[98178. 98125. 98028. ... 98144. 98027. 98144.].\nReshape your data either using array.reshape(-1, 1) if your data has a single feature or array.reshape(1, -1) if it contains a single sample.",
     "output_type": "error",
     "traceback": [
      "\u001b[1;31m---------------------------------------------------------------------------\u001b[0m",
      "\u001b[1;31mValueError\u001b[0m                                Traceback (most recent call last)",
      "\u001b[1;32m<ipython-input-18-4028532b3e9e>\u001b[0m in \u001b[0;36m<module>\u001b[1;34m\u001b[0m\n\u001b[0;32m      1\u001b[0m \u001b[1;31m# strategy i.e most_frequent is equivalent to mode\u001b[0m\u001b[1;33m\u001b[0m\u001b[1;33m\u001b[0m\u001b[1;33m\u001b[0m\u001b[0m\n\u001b[0;32m      2\u001b[0m \u001b[0mimputer\u001b[0m \u001b[1;33m=\u001b[0m \u001b[0mSimpleImputer\u001b[0m\u001b[1;33m(\u001b[0m\u001b[0mmissing_values\u001b[0m\u001b[1;33m=\u001b[0m \u001b[0mnp\u001b[0m\u001b[1;33m.\u001b[0m\u001b[0mnan\u001b[0m\u001b[1;33m,\u001b[0m \u001b[0mstrategy\u001b[0m \u001b[1;33m=\u001b[0m \u001b[1;34m'most_frequent'\u001b[0m\u001b[1;33m)\u001b[0m\u001b[1;33m\u001b[0m\u001b[1;33m\u001b[0m\u001b[0m\n\u001b[1;32m----> 3\u001b[1;33m \u001b[0mRaw_Housing_Data\u001b[0m\u001b[1;33m[\u001b[0m\u001b[1;34m'Zipcode'\u001b[0m\u001b[1;33m]\u001b[0m \u001b[1;33m=\u001b[0m \u001b[0mimputer\u001b[0m\u001b[1;33m.\u001b[0m\u001b[0mfit_transform\u001b[0m\u001b[1;33m(\u001b[0m\u001b[0mRaw_Housing_Data\u001b[0m\u001b[1;33m[\u001b[0m\u001b[1;34m'Zipcode'\u001b[0m\u001b[1;33m]\u001b[0m\u001b[1;33m)\u001b[0m\u001b[1;33m\u001b[0m\u001b[1;33m\u001b[0m\u001b[0m\n\u001b[0m",
      "\u001b[1;32m~\\anaconda3\\lib\\site-packages\\sklearn\\base.py\u001b[0m in \u001b[0;36mfit_transform\u001b[1;34m(self, X, y, **fit_params)\u001b[0m\n\u001b[0;32m    697\u001b[0m         \u001b[1;32mif\u001b[0m \u001b[0my\u001b[0m \u001b[1;32mis\u001b[0m \u001b[1;32mNone\u001b[0m\u001b[1;33m:\u001b[0m\u001b[1;33m\u001b[0m\u001b[1;33m\u001b[0m\u001b[0m\n\u001b[0;32m    698\u001b[0m             \u001b[1;31m# fit method of arity 1 (unsupervised transformation)\u001b[0m\u001b[1;33m\u001b[0m\u001b[1;33m\u001b[0m\u001b[1;33m\u001b[0m\u001b[0m\n\u001b[1;32m--> 699\u001b[1;33m             \u001b[1;32mreturn\u001b[0m \u001b[0mself\u001b[0m\u001b[1;33m.\u001b[0m\u001b[0mfit\u001b[0m\u001b[1;33m(\u001b[0m\u001b[0mX\u001b[0m\u001b[1;33m,\u001b[0m \u001b[1;33m**\u001b[0m\u001b[0mfit_params\u001b[0m\u001b[1;33m)\u001b[0m\u001b[1;33m.\u001b[0m\u001b[0mtransform\u001b[0m\u001b[1;33m(\u001b[0m\u001b[0mX\u001b[0m\u001b[1;33m)\u001b[0m\u001b[1;33m\u001b[0m\u001b[1;33m\u001b[0m\u001b[0m\n\u001b[0m\u001b[0;32m    700\u001b[0m         \u001b[1;32melse\u001b[0m\u001b[1;33m:\u001b[0m\u001b[1;33m\u001b[0m\u001b[1;33m\u001b[0m\u001b[0m\n\u001b[0;32m    701\u001b[0m             \u001b[1;31m# fit method of arity 2 (supervised transformation)\u001b[0m\u001b[1;33m\u001b[0m\u001b[1;33m\u001b[0m\u001b[1;33m\u001b[0m\u001b[0m\n",
      "\u001b[1;32m~\\anaconda3\\lib\\site-packages\\sklearn\\impute\\_base.py\u001b[0m in \u001b[0;36mfit\u001b[1;34m(self, X, y)\u001b[0m\n\u001b[0;32m    286\u001b[0m         \u001b[0mself\u001b[0m \u001b[1;33m:\u001b[0m \u001b[0mSimpleImputer\u001b[0m\u001b[1;33m\u001b[0m\u001b[1;33m\u001b[0m\u001b[0m\n\u001b[0;32m    287\u001b[0m         \"\"\"\n\u001b[1;32m--> 288\u001b[1;33m         \u001b[0mX\u001b[0m \u001b[1;33m=\u001b[0m \u001b[0mself\u001b[0m\u001b[1;33m.\u001b[0m\u001b[0m_validate_input\u001b[0m\u001b[1;33m(\u001b[0m\u001b[0mX\u001b[0m\u001b[1;33m,\u001b[0m \u001b[0min_fit\u001b[0m\u001b[1;33m=\u001b[0m\u001b[1;32mTrue\u001b[0m\u001b[1;33m)\u001b[0m\u001b[1;33m\u001b[0m\u001b[1;33m\u001b[0m\u001b[0m\n\u001b[0m\u001b[0;32m    289\u001b[0m \u001b[1;33m\u001b[0m\u001b[0m\n\u001b[0;32m    290\u001b[0m         \u001b[1;31m# default fill_value is 0 for numerical input and \"missing_value\"\u001b[0m\u001b[1;33m\u001b[0m\u001b[1;33m\u001b[0m\u001b[1;33m\u001b[0m\u001b[0m\n",
      "\u001b[1;32m~\\anaconda3\\lib\\site-packages\\sklearn\\impute\\_base.py\u001b[0m in \u001b[0;36m_validate_input\u001b[1;34m(self, X, in_fit)\u001b[0m\n\u001b[0;32m    260\u001b[0m                 \u001b[1;32mraise\u001b[0m \u001b[0mnew_ve\u001b[0m \u001b[1;32mfrom\u001b[0m \u001b[1;32mNone\u001b[0m\u001b[1;33m\u001b[0m\u001b[1;33m\u001b[0m\u001b[0m\n\u001b[0;32m    261\u001b[0m             \u001b[1;32melse\u001b[0m\u001b[1;33m:\u001b[0m\u001b[1;33m\u001b[0m\u001b[1;33m\u001b[0m\u001b[0m\n\u001b[1;32m--> 262\u001b[1;33m                 \u001b[1;32mraise\u001b[0m \u001b[0mve\u001b[0m\u001b[1;33m\u001b[0m\u001b[1;33m\u001b[0m\u001b[0m\n\u001b[0m\u001b[0;32m    263\u001b[0m \u001b[1;33m\u001b[0m\u001b[0m\n\u001b[0;32m    264\u001b[0m         \u001b[0m_check_inputs_dtype\u001b[0m\u001b[1;33m(\u001b[0m\u001b[0mX\u001b[0m\u001b[1;33m,\u001b[0m \u001b[0mself\u001b[0m\u001b[1;33m.\u001b[0m\u001b[0mmissing_values\u001b[0m\u001b[1;33m)\u001b[0m\u001b[1;33m\u001b[0m\u001b[1;33m\u001b[0m\u001b[0m\n",
      "\u001b[1;32m~\\anaconda3\\lib\\site-packages\\sklearn\\impute\\_base.py\u001b[0m in \u001b[0;36m_validate_input\u001b[1;34m(self, X, in_fit)\u001b[0m\n\u001b[0;32m    250\u001b[0m \u001b[1;33m\u001b[0m\u001b[0m\n\u001b[0;32m    251\u001b[0m         \u001b[1;32mtry\u001b[0m\u001b[1;33m:\u001b[0m\u001b[1;33m\u001b[0m\u001b[1;33m\u001b[0m\u001b[0m\n\u001b[1;32m--> 252\u001b[1;33m             X = self._validate_data(X, reset=in_fit,\n\u001b[0m\u001b[0;32m    253\u001b[0m                                     \u001b[0maccept_sparse\u001b[0m\u001b[1;33m=\u001b[0m\u001b[1;34m'csc'\u001b[0m\u001b[1;33m,\u001b[0m \u001b[0mdtype\u001b[0m\u001b[1;33m=\u001b[0m\u001b[0mdtype\u001b[0m\u001b[1;33m,\u001b[0m\u001b[1;33m\u001b[0m\u001b[1;33m\u001b[0m\u001b[0m\n\u001b[0;32m    254\u001b[0m                                     \u001b[0mforce_all_finite\u001b[0m\u001b[1;33m=\u001b[0m\u001b[0mforce_all_finite\u001b[0m\u001b[1;33m,\u001b[0m\u001b[1;33m\u001b[0m\u001b[1;33m\u001b[0m\u001b[0m\n",
      "\u001b[1;32m~\\anaconda3\\lib\\site-packages\\sklearn\\base.py\u001b[0m in \u001b[0;36m_validate_data\u001b[1;34m(self, X, y, reset, validate_separately, **check_params)\u001b[0m\n\u001b[0;32m    419\u001b[0m             \u001b[0mout\u001b[0m \u001b[1;33m=\u001b[0m \u001b[0mX\u001b[0m\u001b[1;33m\u001b[0m\u001b[1;33m\u001b[0m\u001b[0m\n\u001b[0;32m    420\u001b[0m         \u001b[1;32melif\u001b[0m \u001b[0misinstance\u001b[0m\u001b[1;33m(\u001b[0m\u001b[0my\u001b[0m\u001b[1;33m,\u001b[0m \u001b[0mstr\u001b[0m\u001b[1;33m)\u001b[0m \u001b[1;32mand\u001b[0m \u001b[0my\u001b[0m \u001b[1;33m==\u001b[0m \u001b[1;34m'no_validation'\u001b[0m\u001b[1;33m:\u001b[0m\u001b[1;33m\u001b[0m\u001b[1;33m\u001b[0m\u001b[0m\n\u001b[1;32m--> 421\u001b[1;33m             \u001b[0mX\u001b[0m \u001b[1;33m=\u001b[0m \u001b[0mcheck_array\u001b[0m\u001b[1;33m(\u001b[0m\u001b[0mX\u001b[0m\u001b[1;33m,\u001b[0m \u001b[1;33m**\u001b[0m\u001b[0mcheck_params\u001b[0m\u001b[1;33m)\u001b[0m\u001b[1;33m\u001b[0m\u001b[1;33m\u001b[0m\u001b[0m\n\u001b[0m\u001b[0;32m    422\u001b[0m             \u001b[0mout\u001b[0m \u001b[1;33m=\u001b[0m \u001b[0mX\u001b[0m\u001b[1;33m\u001b[0m\u001b[1;33m\u001b[0m\u001b[0m\n\u001b[0;32m    423\u001b[0m         \u001b[1;32melse\u001b[0m\u001b[1;33m:\u001b[0m\u001b[1;33m\u001b[0m\u001b[1;33m\u001b[0m\u001b[0m\n",
      "\u001b[1;32m~\\anaconda3\\lib\\site-packages\\sklearn\\utils\\validation.py\u001b[0m in \u001b[0;36minner_f\u001b[1;34m(*args, **kwargs)\u001b[0m\n\u001b[0;32m     61\u001b[0m             \u001b[0mextra_args\u001b[0m \u001b[1;33m=\u001b[0m \u001b[0mlen\u001b[0m\u001b[1;33m(\u001b[0m\u001b[0margs\u001b[0m\u001b[1;33m)\u001b[0m \u001b[1;33m-\u001b[0m \u001b[0mlen\u001b[0m\u001b[1;33m(\u001b[0m\u001b[0mall_args\u001b[0m\u001b[1;33m)\u001b[0m\u001b[1;33m\u001b[0m\u001b[1;33m\u001b[0m\u001b[0m\n\u001b[0;32m     62\u001b[0m             \u001b[1;32mif\u001b[0m \u001b[0mextra_args\u001b[0m \u001b[1;33m<=\u001b[0m \u001b[1;36m0\u001b[0m\u001b[1;33m:\u001b[0m\u001b[1;33m\u001b[0m\u001b[1;33m\u001b[0m\u001b[0m\n\u001b[1;32m---> 63\u001b[1;33m                 \u001b[1;32mreturn\u001b[0m \u001b[0mf\u001b[0m\u001b[1;33m(\u001b[0m\u001b[1;33m*\u001b[0m\u001b[0margs\u001b[0m\u001b[1;33m,\u001b[0m \u001b[1;33m**\u001b[0m\u001b[0mkwargs\u001b[0m\u001b[1;33m)\u001b[0m\u001b[1;33m\u001b[0m\u001b[1;33m\u001b[0m\u001b[0m\n\u001b[0m\u001b[0;32m     64\u001b[0m \u001b[1;33m\u001b[0m\u001b[0m\n\u001b[0;32m     65\u001b[0m             \u001b[1;31m# extra_args > 0\u001b[0m\u001b[1;33m\u001b[0m\u001b[1;33m\u001b[0m\u001b[1;33m\u001b[0m\u001b[0m\n",
      "\u001b[1;32m~\\anaconda3\\lib\\site-packages\\sklearn\\utils\\validation.py\u001b[0m in \u001b[0;36mcheck_array\u001b[1;34m(array, accept_sparse, accept_large_sparse, dtype, order, copy, force_all_finite, ensure_2d, allow_nd, ensure_min_samples, ensure_min_features, estimator)\u001b[0m\n\u001b[0;32m    692\u001b[0m             \u001b[1;31m# If input is 1D raise error\u001b[0m\u001b[1;33m\u001b[0m\u001b[1;33m\u001b[0m\u001b[1;33m\u001b[0m\u001b[0m\n\u001b[0;32m    693\u001b[0m             \u001b[1;32mif\u001b[0m \u001b[0marray\u001b[0m\u001b[1;33m.\u001b[0m\u001b[0mndim\u001b[0m \u001b[1;33m==\u001b[0m \u001b[1;36m1\u001b[0m\u001b[1;33m:\u001b[0m\u001b[1;33m\u001b[0m\u001b[1;33m\u001b[0m\u001b[0m\n\u001b[1;32m--> 694\u001b[1;33m                 raise ValueError(\n\u001b[0m\u001b[0;32m    695\u001b[0m                     \u001b[1;34m\"Expected 2D array, got 1D array instead:\\narray={}.\\n\"\u001b[0m\u001b[1;33m\u001b[0m\u001b[1;33m\u001b[0m\u001b[0m\n\u001b[0;32m    696\u001b[0m                     \u001b[1;34m\"Reshape your data either using array.reshape(-1, 1) if \"\u001b[0m\u001b[1;33m\u001b[0m\u001b[1;33m\u001b[0m\u001b[0m\n",
      "\u001b[1;31mValueError\u001b[0m: Expected 2D array, got 1D array instead:\narray=[98178. 98125. 98028. ... 98144. 98027. 98144.].\nReshape your data either using array.reshape(-1, 1) if your data has a single feature or array.reshape(1, -1) if it contains a single sample."
     ]
    }
   ],
   "source": [
    "# strategy i.e most_frequent is equivalent to mode\n",
    "imputer = SimpleImputer(missing_values= np.nan, strategy = 'most_frequent')\n",
    "Raw_Housing_Data['Zipcode'] = imputer.fit_transform(Raw_Housing_Data['Zipcode'])"
   ]
  },
  {
   "cell_type": "code",
   "execution_count": 20,
   "id": "39ebfe56",
   "metadata": {},
   "outputs": [
    {
     "data": {
      "text/plain": [
       "(21609,)"
      ]
     },
     "execution_count": 20,
     "metadata": {},
     "output_type": "execute_result"
    }
   ],
   "source": [
    "Raw_Housing_Data['Zipcode'].shape # fit funtion expects a 2d array"
   ]
  },
  {
   "cell_type": "code",
   "execution_count": 21,
   "id": "a78f9397",
   "metadata": {},
   "outputs": [
    {
     "data": {
      "text/plain": [
       "(21609, 1)"
      ]
     },
     "execution_count": 21,
     "metadata": {},
     "output_type": "execute_result"
    }
   ],
   "source": [
    "column = Raw_Housing_Data['Zipcode'].values.reshape(-1,1)\n",
    "column.shape"
   ]
  },
  {
   "cell_type": "code",
   "execution_count": 23,
   "id": "ade23dbc",
   "metadata": {},
   "outputs": [],
   "source": [
    "column = Raw_Housing_Data['Zipcode'].values.reshape(-1,1)\n",
    "imputer = SimpleImputer(missing_values= np.nan, strategy = 'most_frequent')\n",
    "Raw_Housing_Data['Zipcode'] = imputer.fit_transform(column)"
   ]
  },
  {
   "cell_type": "code",
   "execution_count": 24,
   "id": "8332d85c",
   "metadata": {},
   "outputs": [
    {
     "name": "stdout",
     "output_type": "stream",
     "text": [
      "<class 'pandas.core.frame.DataFrame'>\n",
      "RangeIndex: 21609 entries, 0 to 21608\n",
      "Data columns (total 21 columns):\n",
      " #   Column                                     Non-Null Count  Dtype  \n",
      "---  ------                                     --------------  -----  \n",
      " 0   ID                                         21609 non-null  int64  \n",
      " 1   Date House was Sold                        21609 non-null  object \n",
      " 2   Sale Price                                 21609 non-null  float64\n",
      " 3   No of Bedrooms                             21609 non-null  int64  \n",
      " 4   No of Bathrooms                            21609 non-null  float64\n",
      " 5   Flat Area (in Sqft)                        21609 non-null  float64\n",
      " 6   Lot Area (in Sqft)                         21609 non-null  float64\n",
      " 7   No of Floors                               21609 non-null  float64\n",
      " 8   Waterfront View                            21609 non-null  object \n",
      " 9   No of Times Visited                        21609 non-null  object \n",
      " 10  Condition of the House                     21609 non-null  object \n",
      " 11  Overall Grade                              21609 non-null  int64  \n",
      " 12  Area of the House from Basement (in Sqft)  21609 non-null  float64\n",
      " 13  Basement Area (in Sqft)                    21609 non-null  int64  \n",
      " 14  Age of House (in Years)                    21609 non-null  int64  \n",
      " 15  Renovated Year                             21609 non-null  int64  \n",
      " 16  Zipcode                                    21609 non-null  float64\n",
      " 17  Latitude                                   21609 non-null  float64\n",
      " 18  Longitude                                  21609 non-null  float64\n",
      " 19  Living Area after Renovation (in Sqft)     21609 non-null  float64\n",
      " 20  Lot Area after Renovation (in Sqft)        21609 non-null  int64  \n",
      "dtypes: float64(10), int64(7), object(4)\n",
      "memory usage: 3.5+ MB\n"
     ]
    }
   ],
   "source": [
    "Raw_Housing_Data.info()"
   ]
  }
 ],
 "metadata": {
  "kernelspec": {
   "display_name": "Python 3",
   "language": "python",
   "name": "python3"
  },
  "language_info": {
   "codemirror_mode": {
    "name": "ipython",
    "version": 3
   },
   "file_extension": ".py",
   "mimetype": "text/x-python",
   "name": "python",
   "nbconvert_exporter": "python",
   "pygments_lexer": "ipython3",
   "version": "3.8.8"
  }
 },
 "nbformat": 4,
 "nbformat_minor": 5
}
